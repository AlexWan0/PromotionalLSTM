{
  "nbformat": 4,
  "nbformat_minor": 0,
  "metadata": {
    "colab": {
      "name": "LSTM Articles With Bias",
      "version": "0.3.2",
      "provenance": [],
      "collapsed_sections": [],
      "include_colab_link": true
    },
    "kernelspec": {
      "name": "python3",
      "display_name": "Python 3"
    }
  },
  "cells": [
    {
      "cell_type": "markdown",
      "metadata": {
        "id": "view-in-github",
        "colab_type": "text"
      },
      "source": [
        "<a href=\"https://colab.research.google.com/github/AlexWan0/PromotionalLSTM/blob/master/train_lstm.ipynb\" target=\"_parent\"><img src=\"https://colab.research.google.com/assets/colab-badge.svg\" alt=\"Open In Colab\"/></a>"
      ]
    },
    {
      "cell_type": "markdown",
      "metadata": {
        "id": "s7YyAys7gVAn",
        "colab_type": "text"
      },
      "source": [
        "**Config**"
      ]
    },
    {
      "cell_type": "code",
      "metadata": {
        "id": "xSSFl9UzgT3f",
        "colab_type": "code",
        "colab": {}
      },
      "source": [
        "# The maximum number of words to be used. (most frequent)\n",
        "MAX_NB_WORDS = 50000\n",
        "# Max number of words in each sequence\n",
        "MAX_SEQUENCE_LENGTH = 400\n",
        "\n",
        "EMBEDDING_DIM = 100\n",
        "\n",
        "BASE_DIR = \"/content/gdrive/My Drive/articles_with_bias_data/\"\n",
        "\n",
        "EPOCHS = 5\n",
        "BATCH_SIZE = 128"
      ],
      "execution_count": 0,
      "outputs": []
    },
    {
      "cell_type": "markdown",
      "metadata": {
        "id": "jL7lWCdDUGAB",
        "colab_type": "text"
      },
      "source": [
        "**Reading Data**"
      ]
    },
    {
      "cell_type": "markdown",
      "metadata": {
        "id": "zt30D8drTiV5",
        "colab_type": "text"
      },
      "source": [
        "Imports"
      ]
    },
    {
      "cell_type": "code",
      "metadata": {
        "id": "9mwv5LqJC4qU",
        "colab_type": "code",
        "outputId": "f39f9cd7-ee73-4241-c98f-e9a217082c5c",
        "colab": {
          "base_uri": "https://localhost:8080/",
          "height": 34
        }
      },
      "source": [
        "from google.colab import drive\n",
        "import os\n",
        "import urllib3\n",
        "import pandas as pd\n",
        "import csv\n",
        "import sys\n",
        "csv.field_size_limit(sys.maxsize)"
      ],
      "execution_count": 2,
      "outputs": [
        {
          "output_type": "execute_result",
          "data": {
            "text/plain": [
              "131072"
            ]
          },
          "metadata": {
            "tags": []
          },
          "execution_count": 2
        }
      ]
    },
    {
      "cell_type": "markdown",
      "metadata": {
        "id": "RB7hk-QFTX6z",
        "colab_type": "text"
      },
      "source": [
        "Intializing Google Drive"
      ]
    },
    {
      "cell_type": "code",
      "metadata": {
        "id": "luawghLmTVU0",
        "colab_type": "code",
        "outputId": "94dbb903-c6b9-47b4-d640-cc5146e80a48",
        "colab": {
          "base_uri": "https://localhost:8080/",
          "height": 121
        }
      },
      "source": [
        "drive.mount(\"/content/gdrive\")"
      ],
      "execution_count": 3,
      "outputs": [
        {
          "output_type": "stream",
          "text": [
            "Go to this URL in a browser: https://accounts.google.com/o/oauth2/auth?client_id=947318989803-6bn6qk8qdgf4n4g3pfee6491hc0brc4i.apps.googleusercontent.com&redirect_uri=urn%3Aietf%3Awg%3Aoauth%3A2.0%3Aoob&scope=email%20https%3A%2F%2Fwww.googleapis.com%2Fauth%2Fdocs.test%20https%3A%2F%2Fwww.googleapis.com%2Fauth%2Fdrive%20https%3A%2F%2Fwww.googleapis.com%2Fauth%2Fdrive.photos.readonly%20https%3A%2F%2Fwww.googleapis.com%2Fauth%2Fpeopleapi.readonly&response_type=code\n",
            "\n",
            "Enter your authorization code:\n",
            "··········\n",
            "Mounted at /content/gdrive\n"
          ],
          "name": "stdout"
        }
      ]
    },
    {
      "cell_type": "markdown",
      "metadata": {
        "id": "S-EzJyTqTnb5",
        "colab_type": "text"
      },
      "source": [
        "Read Data"
      ]
    },
    {
      "cell_type": "code",
      "metadata": {
        "id": "8ozag0zFEE7Y",
        "colab_type": "code",
        "colab": {}
      },
      "source": [
        "data = {'text': [], 'advert': [], 'resume': [], 'pr': [], 'coi': [], 'fanpov': [], 'promotion':[], 'negative': []}\n",
        "label_map = {7}\n",
        "def append_binary(labels):\n",
        "  col_labels = ['advert', 'resume', 'pr', 'coi', 'fanpov', 'promotion', 'negative']\n",
        "  for lbl in col_labels:\n",
        "    if lbl in labels:\n",
        "      data[lbl].append(1)\n",
        "    else:\n",
        "      data[lbl].append(0)\n",
        "\n",
        "with open(os.path.join(BASE_DIR,'promotional.csv'), newline='') as f:\n",
        "  reader = csv.reader(f)\n",
        "  for row in reader:\n",
        "    text = row[0]\n",
        "    labels = row[1:]\n",
        "    data['text'].append(text)\n",
        "    if labels[0] == \"previous\":\n",
        "      labels[0] == \"negative\"\n",
        "    append_binary(labels)\n",
        "\n",
        "with open(os.path.join(BASE_DIR,'good.csv'), newline='') as f:\n",
        "  reader = csv.reader(f)\n",
        "  for row in reader:\n",
        "    text = row[0]\n",
        "    data['text'].append(text)\n",
        "    append_binary(['negative'])\n",
        "\n",
        "df = pd.DataFrame(data)"
      ],
      "execution_count": 0,
      "outputs": []
    },
    {
      "cell_type": "markdown",
      "metadata": {
        "id": "q56m7gpPTryX",
        "colab_type": "text"
      },
      "source": [
        "Category Sizes"
      ]
    },
    {
      "cell_type": "code",
      "metadata": {
        "id": "sKO133CdWq5d",
        "colab_type": "code",
        "outputId": "6a7b0911-8fa6-4248-bab9-5e71c6424b39",
        "colab": {
          "base_uri": "https://localhost:8080/",
          "height": 341
        }
      },
      "source": [
        "import matplotlib.pyplot as plt\n",
        "\n",
        "df_cats = df.drop(['text'], axis=1)\n",
        "counts = []\n",
        "categories = list(df_cats.columns.values)\n",
        "for i in categories:\n",
        "    counts.append((i, df_cats[i].sum()))\n",
        "df_stats = pd.DataFrame(counts, columns=['category', 'number'])\n",
        "\n",
        "df_stats.plot.bar(x='category')\n",
        "\n",
        "#df_stats"
      ],
      "execution_count": 5,
      "outputs": [
        {
          "output_type": "execute_result",
          "data": {
            "text/plain": [
              "<matplotlib.axes._subplots.AxesSubplot at 0x7f70acf06ef0>"
            ]
          },
          "metadata": {
            "tags": []
          },
          "execution_count": 5
        },
        {
          "output_type": "display_data",
          "data": {
            "image/png": "[encoded data removed]",
            "text/plain": [
              "<Figure size 432x288 with 1 Axes>"
            ]
          },
          "metadata": {
            "tags": []
          }
        }
      ]
    },
    {
      "cell_type": "markdown",
      "metadata": {
        "id": "dZl9oibQSsfu",
        "colab_type": "text"
      },
      "source": [
        "Combining Promotional Categories"
      ]
    },
    {
      "cell_type": "code",
      "metadata": {
        "id": "69dDwxLNsDWz",
        "colab_type": "code",
        "colab": {}
      },
      "source": [
        "data_comb = {'text': [], 'label': []}\n",
        "for index, row in df.iterrows():\n",
        "  data_comb['text'].append(row['text'])\n",
        "  if data['negative'][index] == 1:\n",
        "    data_comb['label'].append(0)\n",
        "  else:\n",
        "    data_comb['label'].append(1)\n",
        "df = pd.DataFrame(data_comb)"
      ],
      "execution_count": 0,
      "outputs": []
    },
    {
      "cell_type": "markdown",
      "metadata": {
        "id": "xhRZM2mMT55F",
        "colab_type": "text"
      },
      "source": [
        "Text Lengths In Each Category"
      ]
    },
    {
      "cell_type": "code",
      "metadata": {
        "id": "LZwEhDGyYmkn",
        "colab_type": "code",
        "colab": {}
      },
      "source": [
        "lengths = {'lens': [], 'labels': []}\n",
        "for i, row in df.iterrows():\n",
        "  word_count = len(row[0].split(\" \"))\n",
        "  \n",
        "  if word_count < MAX_SEQUENCE_LENGTH:\n",
        "    df.drop(i)\n",
        "  else:\n",
        "    lengths['lens'].append(word_count)\n",
        "    lengths['labels'].append(row[1])"
      ],
      "execution_count": 0,
      "outputs": []
    },
    {
      "cell_type": "code",
      "metadata": {
        "id": "CKlic_P4LPOm",
        "colab_type": "code",
        "outputId": "9100ac87-d54e-4be2-e7a7-0243a46c9a84",
        "colab": {
          "base_uri": "https://localhost:8080/",
          "height": 286
        }
      },
      "source": [
        "df_len = pd.DataFrame(lengths)\n",
        "#df_len.hist()\n",
        "df_len[df_len.labels == 1][\"lens\"].plot.hist(alpha=0.5, bins=200, figsize=(8,4))\n",
        "df_len[df_len.labels == 0][\"lens\"].plot.hist(alpha=0.5, bins=200, figsize=(8,4))"
      ],
      "execution_count": 8,
      "outputs": [
        {
          "output_type": "execute_result",
          "data": {
            "text/plain": [
              "<matplotlib.axes._subplots.AxesSubplot at 0x7f70ac8985f8>"
            ]
          },
          "metadata": {
            "tags": []
          },
          "execution_count": 8
        },
        {
          "output_type": "display_data",
          "data": {
            "image/png": "[encoded data removed]",
            "text/plain": [
              "<Figure size 576x288 with 1 Axes>"
            ]
          },
          "metadata": {
            "tags": []
          }
        }
      ]
    },
    {
      "cell_type": "markdown",
      "metadata": {
        "id": "57yZZu7tU42i",
        "colab_type": "text"
      },
      "source": [
        "**Model Training**"
      ]
    },
    {
      "cell_type": "markdown",
      "metadata": {
        "id": "S_qTPozJU8hy",
        "colab_type": "text"
      },
      "source": [
        "Imports"
      ]
    },
    {
      "cell_type": "code",
      "metadata": {
        "id": "Elcs5dHrzMJQ",
        "colab_type": "code",
        "colab": {
          "base_uri": "https://localhost:8080/",
          "height": 34
        },
        "outputId": "1bcf34ce-9586-429f-e03d-5367207d7b17"
      },
      "source": [
        "import numpy as np\n",
        "from keras.models import Sequential\n",
        "from keras.layers import Dense, LSTM, SpatialDropout1D, Dropout\n",
        "from keras.layers.embeddings import Embedding\n",
        "from keras.preprocessing import sequence\n",
        "from keras.preprocessing.text import Tokenizer\n",
        "from keras.callbacks import EarlyStopping\n",
        "import datetime\n",
        "import pickle\n",
        "from sklearn.model_selection import train_test_split\n",
        "\n",
        "# fix random seed for reproducibility\n",
        "np.random.seed(4)"
      ],
      "execution_count": 9,
      "outputs": [
        {
          "output_type": "stream",
          "text": [
            "Using TensorFlow backend.\n"
          ],
          "name": "stderr"
        }
      ]
    },
    {
      "cell_type": "markdown",
      "metadata": {
        "id": "2gANqKKIVCHa",
        "colab_type": "text"
      },
      "source": [
        "Shuffling Data"
      ]
    },
    {
      "cell_type": "code",
      "metadata": {
        "id": "iMTvZTbHVHVd",
        "colab_type": "code",
        "colab": {}
      },
      "source": [
        "df = df.reindex(np.random.permutation(df.index))"
      ],
      "execution_count": 0,
      "outputs": []
    },
    {
      "cell_type": "markdown",
      "metadata": {
        "id": "FsoO6BTjVIHy",
        "colab_type": "text"
      },
      "source": [
        "Label to One-Hot"
      ]
    },
    {
      "cell_type": "code",
      "metadata": {
        "id": "BYQ0jO29xe8-",
        "colab_type": "code",
        "colab": {}
      },
      "source": [
        "labels = pd.get_dummies(df['label'])"
      ],
      "execution_count": 0,
      "outputs": []
    },
    {
      "cell_type": "markdown",
      "metadata": {
        "id": "qZGrdpHiVNY-",
        "colab_type": "text"
      },
      "source": [
        "Tokenizing Text"
      ]
    },
    {
      "cell_type": "code",
      "metadata": {
        "id": "oLmY7fN_zVqS",
        "colab_type": "code",
        "outputId": "f2ddc31e-6599-42b0-fcd8-4e86c5bbd380",
        "colab": {
          "base_uri": "https://localhost:8080/",
          "height": 50
        }
      },
      "source": [
        "tokenizer = Tokenizer(num_words=MAX_NB_WORDS, filters='!\"#$%&()*+,-./:;<=>?@[\\]^_`{|}~', lower=True)\n",
        "tokenizer.fit_on_texts(df['text'].values)\n",
        "word_index = tokenizer.word_index\n",
        "print('Found %s unique tokens.' % len(word_index))\n",
        "\n",
        "X = tokenizer.texts_to_sequences(df['text'].values)\n",
        "X = sequence.pad_sequences(X, maxlen=MAX_SEQUENCE_LENGTH)\n",
        "print('Shape of data tensor:', X.shape)"
      ],
      "execution_count": 12,
      "outputs": [
        {
          "output_type": "stream",
          "text": [
            "Found 719328 unique tokens.\n",
            "Shape of data tensor: (51012, 400)\n"
          ],
          "name": "stdout"
        }
      ]
    },
    {
      "cell_type": "markdown",
      "metadata": {
        "id": "SpwUmjvFVZq-",
        "colab_type": "text"
      },
      "source": [
        "Split Data"
      ]
    },
    {
      "cell_type": "code",
      "metadata": {
        "id": "5q3Hcfl1VcXa",
        "colab_type": "code",
        "colab": {}
      },
      "source": [
        "x_train, x_test, y_train, y_test = train_test_split(X, labels, test_size=0.2, random_state = 4)"
      ],
      "execution_count": 0,
      "outputs": []
    },
    {
      "cell_type": "markdown",
      "metadata": {
        "id": "XE7N7e6oVdqo",
        "colab_type": "text"
      },
      "source": [
        "Model Building"
      ]
    },
    {
      "cell_type": "code",
      "metadata": {
        "id": "VQkenJZw7x9g",
        "colab_type": "code",
        "colab": {}
      },
      "source": [
        "model = Sequential()\n",
        "model.add(Embedding(MAX_NB_WORDS, EMBEDDING_DIM, input_length=X.shape[1]))\n",
        "model.add(SpatialDropout1D(0.2))\n",
        "model.add(LSTM(80, dropout=0.2, recurrent_dropout=0.2))\n",
        "model.add(Dense(128, activation='relu'))\n",
        "model.add(Dropout(0.5))\n",
        "model.add(Dense(2, activation='softmax'))\n",
        "model.compile(loss='binary_crossentropy', optimizer='adam', metrics=['accuracy'])"
      ],
      "execution_count": 0,
      "outputs": []
    },
    {
      "cell_type": "markdown",
      "metadata": {
        "id": "WpMbahdGVlBk",
        "colab_type": "text"
      },
      "source": [
        "Model Training"
      ]
    },
    {
      "cell_type": "code",
      "metadata": {
        "id": "6vRTf2BsVrPe",
        "colab_type": "code",
        "colab": {
          "base_uri": "https://localhost:8080/",
          "height": 202
        },
        "outputId": "a68aa41f-3adc-4bf9-8068-49628bd0992a"
      },
      "source": [
        "history = model.fit(x_train, y_train, epochs=EPOCHS, batch_size=BATCH_SIZE, validation_split=0.1, callbacks=[EarlyStopping(monitor='val_loss', patience=3, min_delta=0.0001)])"
      ],
      "execution_count": 20,
      "outputs": [
        {
          "output_type": "stream",
          "text": [
            "Train on 36728 samples, validate on 4081 samples\n",
            "Epoch 1/5\n",
            "36728/36728 [==============================] - 417s 11ms/step - loss: 0.4074 - acc: 0.8273 - val_loss: 0.2877 - val_acc: 0.8986\n",
            "Epoch 2/5\n",
            "36728/36728 [==============================] - 411s 11ms/step - loss: 0.3056 - acc: 0.8798 - val_loss: 0.3040 - val_acc: 0.8905\n",
            "Epoch 3/5\n",
            "36728/36728 [==============================] - 409s 11ms/step - loss: 0.2611 - acc: 0.8948 - val_loss: 0.4763 - val_acc: 0.7839\n",
            "Epoch 4/5\n",
            "36728/36728 [==============================] - 409s 11ms/step - loss: 0.2059 - acc: 0.9243 - val_loss: 0.2868 - val_acc: 0.8966\n",
            "Epoch 5/5\n",
            "36728/36728 [==============================] - 407s 11ms/step - loss: 0.1349 - acc: 0.9524 - val_loss: 0.2872 - val_acc: 0.9081\n"
          ],
          "name": "stdout"
        }
      ]
    },
    {
      "cell_type": "markdown",
      "metadata": {
        "id": "w8ACp1feeANu",
        "colab_type": "text"
      },
      "source": [
        "Evaluating"
      ]
    },
    {
      "cell_type": "code",
      "metadata": {
        "id": "Kp6dd_e8d_7L",
        "colab_type": "code",
        "colab": {
          "base_uri": "https://localhost:8080/",
          "height": 50
        },
        "outputId": "3c6e00e0-de89-4a0c-89ee-5bb7f6df45b9"
      },
      "source": [
        "eval_res = model.evaluate(x_test, y_test)\n",
        "print(eval_res)"
      ],
      "execution_count": 21,
      "outputs": [
        {
          "output_type": "stream",
          "text": [
            "10203/10203 [==============================] - 24s 2ms/step\n",
            "[0.2549155214236412, 0.9182593354895618]\n"
          ],
          "name": "stdout"
        }
      ]
    },
    {
      "cell_type": "markdown",
      "metadata": {
        "id": "slNTr5o3Vtb9",
        "colab_type": "text"
      },
      "source": [
        "Saving"
      ]
    },
    {
      "cell_type": "code",
      "metadata": {
        "id": "Ye5ih0iVVzgn",
        "colab_type": "code",
        "colab": {
          "base_uri": "https://localhost:8080/",
          "height": 34
        },
        "outputId": "327d5c8b-dd42-4196-b585-7c2e1dc1ae74"
      },
      "source": [
        "timestamp = datetime.datetime.now().strftime(\"%H%M_%d%m%Y\")\n",
        "\n",
        "save_dir = os.path.join(BASE_DIR,timestamp)\n",
        "\n",
        "os.makedirs(save_dir)\n",
        "\n",
        "model_json = model.to_json()\n",
        "with open(os.path.join(save_dir,\"model.json\"), \"w\") as json_file:\n",
        "  json_file.write(model_json)\n",
        "\n",
        "model.save_weights(os.path.join(save_dir,\"model.h5\"))\n",
        "\n",
        "with open(os.path.join(save_dir,\"tokenizer.pickle\"), \"wb\") as tk_file:\n",
        "  pickle.dump(tokenizer, tk_file, protocol=pickle.HIGHEST_PROTOCOL)\n",
        "  \n",
        "with open(os.path.join(save_dir,\"config.txt\"), \"w\") as config_file:\n",
        "  config_file.write(\"MAX_SEQUENCE_LENGTH=\"+str(MAX_SEQUENCE_LENGTH))\n",
        "  \n",
        "with open(os.path.join(save_dir,\"eval.txt\"), \"w\") as eval_file:\n",
        "  eval_file.write(\"Loss: %f, Accuracy: %f\" % tuple(eval_res))\n",
        "\n",
        "with open(os.path.join(save_dir,\"history.pickle\"), \"wb\") as history_file:\n",
        "  pickle.dump(history, history_file)\n",
        "  \n",
        "print(\"Model data saved to\", save_dir)"
      ],
      "execution_count": 22,
      "outputs": [
        {
          "output_type": "stream",
          "text": [
            "Model data saved to /content/gdrive/My Drive/articles_with_bias_data/1807_11052019\n"
          ],
          "name": "stdout"
        }
      ]
    },
    {
      "cell_type": "markdown",
      "metadata": {
        "id": "IR5RX7YaV3cT",
        "colab_type": "text"
      },
      "source": [
        "Testing"
      ]
    },
    {
      "cell_type": "code",
      "metadata": {
        "id": "CNFKYfAoTfsD",
        "colab_type": "code",
        "colab": {
          "base_uri": "https://localhost:8080/",
          "height": 34
        },
        "outputId": "f3ed0511-1f64-466c-e05f-acd7ebf6344b"
      },
      "source": [
        "text = [\"Oryzomys pliocaenicus is a fossil rodent from the Hemphillian late Miocene of Kansas central United States It is known from a single mandible lower jaw with the back part missing All three molars are present but very worn Together the molars are 3 6 mm long The fossil was discovered in 1935 and described in 1939 as a possible species of Oryzomys in open nomenclature Later authors doubted this allocation and suggested that it may instead belong in Bensonomys or Jacobsomys but the material may not allow a definite identification The only known specimen of Oryzomys pliocaenicus is a mandible lower jaw found in the spring of 1935 by David Dunkle in Edson Quarry Sherman County Kansas It is in the collections of the Museum of Comparative Zoology at Harvard University as specimen MCZ 6202 Edson Quarry is in the Ogallala Formation and the Hemphillian North American Land Mammal Age Claude W Hibbard described the mandible as Oryzomys pliocaenicus in a 1939 paper Hibbard wrote that the fauna was middle Pliocene but it is now considered Miocene The Edson Quarry fauna contains a diversity of other fossils including mammals birds reptiles and amphibians Oryzomys pliocaenicus is known from a single mandible with the incisor and three molars in it Much of the back of the jaw is missing including the angular condyloid and coronoid processes The mental foramen a foramen opening at the front of the jaw in the diastema between the incisor and molars opens upwards a little more so than in the living marsh rice rat Oryzomys palustris The masseteric ridges which anchor some of the chewing muscles and are located on the outer surface of the mandible are similar to those of Oryzomys The molars are very worn so that only traces of the cusps remain no accessory small cusps are visible Each of the teeth has two roots The length of the toothrow is 3 6 mm and the depth of the mandible below the first molar is also 3 6 mm Hibbard wrote that the condition of the mental foramen and masseteric ridges excluded the specimen from Onychomys Peromyscus Reithrodontomys and Eligmodontia and that in these features and in its depth and size the fossil more closely resembled Oryzomys therefore he placed it in that genus with a query Oryzomys is a living genus that has occurred in the United States since at least 300 000 years ago In 1966 Philip Hershkovitz wrote that Hibbard had reconsidered his opinion after re examining O pliocaenicus in 1952 he no longer thought that it was an Oryzomys and instead believed it may be a Bensonomys The latter genus occurs in the late Miocene and early Pliocene of North America and has been variously interpreted as a close relative of the South American Calomys or merely as an evolutionarily convergent member of the North American subfamily Neotominae Jon Baskin mentioned the animal in 1978 and 1986 asserting that it cannot be identified to genus level but may be Bensonomys Although some continue to list it under Oryzomys it is now usually excluded from the genus In 2008 Everett Lindsay listed O pliocaenicus as a questionable species of Jacobsomys a Pliocene North American genus which he said may be ancestral to Oryzomys\"]\n",
        "test = tokenizer.texts_to_sequences(text)\n",
        "test = sequence.pad_sequences(test, maxlen=MAX_SEQUENCE_LENGTH)\n",
        "\n",
        "result = model.predict(test)\n",
        "print(result, str(np.argmax(np.sum(result, axis=0))))"
      ],
      "execution_count": 23,
      "outputs": [
        {
          "output_type": "stream",
          "text": [
            "[[9.994727e-01 5.273356e-04]] 0\n"
          ],
          "name": "stdout"
        }
      ]
    }
  ]
}